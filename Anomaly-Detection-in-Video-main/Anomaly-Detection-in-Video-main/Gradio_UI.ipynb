{
 "cells": [
  {
   "cell_type": "markdown",
   "metadata": {},
   "source": [
    "# Frontend for Anomaly Detection using Gradio \n"
   ]
  },
  {
   "cell_type": "code",
   "execution_count": null,
   "metadata": {},
   "outputs": [],
   "source": [
    "!pip install gradio"
   ]
  },
  {
   "cell_type": "code",
   "execution_count": 1,
   "metadata": {},
   "outputs": [
    {
     "name": "stderr",
     "output_type": "stream",
     "text": [
      "c:\\Users\\admin\\AppData\\Local\\Programs\\Python\\Python312\\Lib\\site-packages\\tqdm\\auto.py:21: TqdmWarning: IProgress not found. Please update jupyter and ipywidgets. See https://ipywidgets.readthedocs.io/en/stable/user_install.html\n",
      "  from .autonotebook import tqdm as notebook_tqdm\n"
     ]
    }
   ],
   "source": [
    "import gradio"
   ]
  },
  {
   "cell_type": "code",
   "execution_count": null,
   "metadata": {},
   "outputs": [],
   "source": [
    "import gradio as gr \n",
    "import tensorflow as tf\n",
    "import numpy as np\n",
    "import requests\n",
    "\n",
    "#Load Model here like .h5 \n",
    "#load labels.csv here \n"
   ]
  },
  {
   "cell_type": "code",
   "execution_count": 6,
   "metadata": {},
   "outputs": [
    {
     "name": "stderr",
     "output_type": "stream",
     "text": [
      "WARNING:absl:Compiled the loaded model, but the compiled metrics have yet to be built. `model.compile_metrics` will be empty until you train or evaluate the model.\n"
     ]
    },
    {
     "name": "stdout",
     "output_type": "stream",
     "text": [
      "Running on local URL:  http://127.0.0.1:7864\n"
     ]
    },
    {
     "name": "stderr",
     "output_type": "stream",
     "text": [
      "c:\\Users\\admin\\AppData\\Local\\Programs\\Python\\Python312\\Lib\\site-packages\\gradio\\analytics.py:106: UserWarning: IMPORTANT: You are using gradio version 4.44.0, however version 4.44.1 is available, please upgrade. \n",
      "--------\n",
      "  warnings.warn(\n"
     ]
    },
    {
     "name": "stdout",
     "output_type": "stream",
     "text": [
      "Running on public URL: https://084432e7649618373d.gradio.live\n",
      "\n",
      "This share link expires in 72 hours. For free permanent hosting and GPU upgrades, run `gradio deploy` from Terminal to deploy to Spaces (https://huggingface.co/spaces)\n"
     ]
    },
    {
     "data": {
      "text/html": [
       "<div><iframe src=\"https://084432e7649618373d.gradio.live\" width=\"100%\" height=\"500\" allow=\"autoplay; camera; microphone; clipboard-read; clipboard-write;\" frameborder=\"0\" allowfullscreen></iframe></div>"
      ],
      "text/plain": [
       "<IPython.core.display.HTML object>"
      ]
     },
     "metadata": {},
     "output_type": "display_data"
    },
    {
     "data": {
      "text/plain": []
     },
     "execution_count": 6,
     "metadata": {},
     "output_type": "execute_result"
    }
   ],
   "source": [
    "import gradio as gr\n",
    "import cv2\n",
    "import numpy as np\n",
    "import tensorflow as tf\n",
    "from tensorflow.keras.models import load_model\n",
    "import os\n",
    "import matplotlib.pyplot as plt\n",
    "import shutil\n",
    "\n",
    "# Load the model\n",
    "# model = load_model('CNN_LSTM_10.h5')\n",
    "model = load_model('cnn_lstm_model_optimized_reduced.h5')\n",
    "\n",
    "def normalize_scores(scores):\n",
    "    min_score = min(scores)\n",
    "    max_score = max(scores)\n",
    "    return [(score - min_score) / (max_score - min_score) for score in scores]\n",
    "\n",
    "def process_video(video_path):\n",
    "    # Create temporary directories\n",
    "    temp_dir = 'temp_frames'\n",
    "    anomaly_dir = 'anomaly_frames'\n",
    "    os.makedirs(temp_dir, exist_ok=True)\n",
    "    os.makedirs(anomaly_dir, exist_ok=True)\n",
    "\n",
    "    # Create a copy of the uploaded video\n",
    "    video_copy_path = 'uploaded_video.mp4'\n",
    "    shutil.copy(video_path, video_copy_path)\n",
    "\n",
    "    # Open the video file\n",
    "    cap = cv2.VideoCapture(video_copy_path)\n",
    "    frame_count = 0\n",
    "    anomaly_scores = []\n",
    "    timestamps = []\n",
    "    anomaly_frames = []\n",
    "\n",
    "    fps = cap.get(cv2.CAP_PROP_FPS)\n",
    "    \n",
    "    # Define anomaly threshold (adjust as needed)\n",
    "    anomaly_threshold = 0.90\n",
    "\n",
    "    while True:\n",
    "        ret, frame = cap.read()\n",
    "        if not ret:\n",
    "            break\n",
    "\n",
    "        # Calculate timestamp\n",
    "        timestamp = frame_count / fps\n",
    "        timestamps.append(timestamp)\n",
    "\n",
    "        # Preprocess the frame\n",
    "        processed_frame = cv2.resize(frame, (112, 112))\n",
    "        processed_frame = processed_frame / 255.0\n",
    "\n",
    "        # Make prediction\n",
    "        prediction = model.predict(np.expand_dims(processed_frame, axis=0))\n",
    "        anomaly_score = prediction[0][0]\n",
    "        anomaly_scores.append(anomaly_score)\n",
    "\n",
    "        # Save frame if it exceeds the anomaly threshold\n",
    "        if anomaly_score > anomaly_threshold:\n",
    "            frame_path = os.path.join(anomaly_dir, f'anomaly_frame_{frame_count:04d}_{timestamp:.2f}s.jpg')\n",
    "            cv2.imwrite(frame_path, frame)\n",
    "            # Append frame_path and a caption containing timestamp and anomaly score\n",
    "            anomaly_frames.append((frame_path, f'Time: {timestamp:.2f}s, Score: {anomaly_score:.2f}'))\n",
    "\n",
    "        frame_count += 1\n",
    "\n",
    "    cap.release()\n",
    "\n",
    "    # Normalize the anomaly scores\n",
    "    normalized_scores = normalize_scores(anomaly_scores)\n",
    "\n",
    "    # Create a plot of normalized anomaly scores with timestamps\n",
    "    plt.figure(figsize=(12, 6))\n",
    "    plt.plot(timestamps, normalized_scores)\n",
    "    plt.title('Normalized Anomaly Scores Over Time')\n",
    "    plt.xlabel('Time (seconds)')\n",
    "    plt.ylabel('Normalized Anomaly Score')\n",
    "    plt.ylim(0, 1)\n",
    "\n",
    "    # Add a secondary x-axis for frame numbers\n",
    "    ax2 = plt.gca().twiny()\n",
    "    ax2.set_xlabel('Frame')\n",
    "    ax2.set_xlim(plt.gca().get_xlim())\n",
    "    ax2.set_xticks(np.linspace(plt.gca().get_xlim()[0], plt.gca().get_xlim()[1], 5))\n",
    "    ax2.set_xticklabels([f'{int(x)}' for x in np.linspace(0, frame_count, 5)])\n",
    "\n",
    "    # Mark anomaly points on the plot\n",
    "    for frame_path, caption in anomaly_frames:\n",
    "        plt.plot(timestamps, normalized_scores, 'ro')\n",
    "\n",
    "    plt.tight_layout()\n",
    "    plot_path = 'anomaly_scores.png'\n",
    "    plt.savefig(plot_path)\n",
    "    plt.close()\n",
    "\n",
    "    return video_copy_path, plot_path, anomaly_frames\n",
    "\n",
    "# Gradio interface\n",
    "iface = gr.Interface(\n",
    "    fn=process_video,\n",
    "    inputs=gr.Video(),\n",
    "    outputs=[\n",
    "        gr.Video(label=\"Uploaded Video\"),\n",
    "        gr.Image(type=\"filepath\", label=\"Normalized Anomaly Scores\"),\n",
    "        gr.Gallery(label=\"Anomaly Frames\")\n",
    "    ],\n",
    "    title=\"Video Anomaly Detection\",\n",
    "    description=\"Upload a video to detect anomalies. The video will be displayed alongside the normalized anomaly score plot and frames where anomalies were detected.\"\n",
    ")\n",
    "\n",
    "# iface.launch()\n",
    "iface.launch(share=True)\n"
   ]
  },
  {
   "cell_type": "code",
   "execution_count": null,
   "metadata": {},
   "outputs": [],
   "source": []
  }
 ],
 "metadata": {
  "kernelspec": {
   "display_name": "Python 3",
   "language": "python",
   "name": "python3"
  },
  "language_info": {
   "codemirror_mode": {
    "name": "ipython",
    "version": 3
   },
   "file_extension": ".py",
   "mimetype": "text/x-python",
   "name": "python",
   "nbconvert_exporter": "python",
   "pygments_lexer": "ipython3",
   "version": "3.12.5"
  }
 },
 "nbformat": 4,
 "nbformat_minor": 2
}
